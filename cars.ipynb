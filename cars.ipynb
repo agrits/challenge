{
 "cells": [
  {
   "cell_type": "markdown",
   "metadata": {},
   "source": [
    "### First, let's load data, transform relevant columns to 'category' dtype and show basic info."
   ]
  },
  {
   "cell_type": "code",
   "execution_count": 278,
   "metadata": {},
   "outputs": [
    {
     "data": {
      "text/html": [
       "<div>\n",
       "<style scoped>\n",
       "    .dataframe tbody tr th:only-of-type {\n",
       "        vertical-align: middle;\n",
       "    }\n",
       "\n",
       "    .dataframe tbody tr th {\n",
       "        vertical-align: top;\n",
       "    }\n",
       "\n",
       "    .dataframe thead th {\n",
       "        text-align: right;\n",
       "    }\n",
       "</style>\n",
       "<table border=\"1\" class=\"dataframe\">\n",
       "  <thead>\n",
       "    <tr style=\"text-align: right;\">\n",
       "      <th></th>\n",
       "      <th>Unnamed: 0</th>\n",
       "      <th>city</th>\n",
       "      <th>price</th>\n",
       "      <th>year</th>\n",
       "      <th>manufacturer</th>\n",
       "      <th>make</th>\n",
       "      <th>condition</th>\n",
       "      <th>cylinders</th>\n",
       "      <th>fuel</th>\n",
       "      <th>odometer</th>\n",
       "      <th>...</th>\n",
       "      <th>type</th>\n",
       "      <th>paint_color</th>\n",
       "      <th>lat</th>\n",
       "      <th>long</th>\n",
       "      <th>county_fips</th>\n",
       "      <th>county_name</th>\n",
       "      <th>state_fips</th>\n",
       "      <th>state_code</th>\n",
       "      <th>state_name</th>\n",
       "      <th>weather</th>\n",
       "    </tr>\n",
       "  </thead>\n",
       "  <tbody>\n",
       "    <tr>\n",
       "      <th>0</th>\n",
       "      <td>0</td>\n",
       "      <td>marshall</td>\n",
       "      <td>11900</td>\n",
       "      <td>2010.0</td>\n",
       "      <td>dodge</td>\n",
       "      <td>challenger se</td>\n",
       "      <td>good</td>\n",
       "      <td>6 cylinders</td>\n",
       "      <td>gas</td>\n",
       "      <td>43600.0</td>\n",
       "      <td>...</td>\n",
       "      <td>coupe</td>\n",
       "      <td>red</td>\n",
       "      <td>43.477500</td>\n",
       "      <td>-96.704100</td>\n",
       "      <td>46083.0</td>\n",
       "      <td>Lincoln</td>\n",
       "      <td>46.0</td>\n",
       "      <td>SD</td>\n",
       "      <td>South Dakota</td>\n",
       "      <td>38.0</td>\n",
       "    </tr>\n",
       "    <tr>\n",
       "      <th>1</th>\n",
       "      <td>1</td>\n",
       "      <td>marshall</td>\n",
       "      <td>1515</td>\n",
       "      <td>1999.0</td>\n",
       "      <td>NaN</td>\n",
       "      <td>fleetwood</td>\n",
       "      <td>NaN</td>\n",
       "      <td>NaN</td>\n",
       "      <td>gas</td>\n",
       "      <td>NaN</td>\n",
       "      <td>...</td>\n",
       "      <td>NaN</td>\n",
       "      <td>NaN</td>\n",
       "      <td>44.761200</td>\n",
       "      <td>-96.690700</td>\n",
       "      <td>46039.0</td>\n",
       "      <td>Deuel</td>\n",
       "      <td>46.0</td>\n",
       "      <td>SD</td>\n",
       "      <td>South Dakota</td>\n",
       "      <td>38.0</td>\n",
       "    </tr>\n",
       "    <tr>\n",
       "      <th>2</th>\n",
       "      <td>2</td>\n",
       "      <td>marshall</td>\n",
       "      <td>17550</td>\n",
       "      <td>2008.0</td>\n",
       "      <td>ford</td>\n",
       "      <td>f-150</td>\n",
       "      <td>NaN</td>\n",
       "      <td>NaN</td>\n",
       "      <td>gas</td>\n",
       "      <td>NaN</td>\n",
       "      <td>...</td>\n",
       "      <td>NaN</td>\n",
       "      <td>NaN</td>\n",
       "      <td>44.141500</td>\n",
       "      <td>-103.205200</td>\n",
       "      <td>46093.0</td>\n",
       "      <td>Meade</td>\n",
       "      <td>46.0</td>\n",
       "      <td>SD</td>\n",
       "      <td>South Dakota</td>\n",
       "      <td>38.0</td>\n",
       "    </tr>\n",
       "    <tr>\n",
       "      <th>3</th>\n",
       "      <td>3</td>\n",
       "      <td>marshall</td>\n",
       "      <td>2800</td>\n",
       "      <td>2004.0</td>\n",
       "      <td>ford</td>\n",
       "      <td>taurus</td>\n",
       "      <td>good</td>\n",
       "      <td>6 cylinders</td>\n",
       "      <td>gas</td>\n",
       "      <td>168591.0</td>\n",
       "      <td>...</td>\n",
       "      <td>sedan</td>\n",
       "      <td>grey</td>\n",
       "      <td>43.284500</td>\n",
       "      <td>-95.593000</td>\n",
       "      <td>19143.0</td>\n",
       "      <td>Osceola</td>\n",
       "      <td>19.0</td>\n",
       "      <td>IA</td>\n",
       "      <td>Iowa</td>\n",
       "      <td>47.0</td>\n",
       "    </tr>\n",
       "    <tr>\n",
       "      <th>4</th>\n",
       "      <td>4</td>\n",
       "      <td>marshall</td>\n",
       "      <td>400</td>\n",
       "      <td>2001.0</td>\n",
       "      <td>NaN</td>\n",
       "      <td>2001 Grand Prix</td>\n",
       "      <td>NaN</td>\n",
       "      <td>NaN</td>\n",
       "      <td>gas</td>\n",
       "      <td>217000.0</td>\n",
       "      <td>...</td>\n",
       "      <td>NaN</td>\n",
       "      <td>NaN</td>\n",
       "      <td>43.026100</td>\n",
       "      <td>-94.406400</td>\n",
       "      <td>19109.0</td>\n",
       "      <td>Kossuth</td>\n",
       "      <td>19.0</td>\n",
       "      <td>IA</td>\n",
       "      <td>Iowa</td>\n",
       "      <td>47.0</td>\n",
       "    </tr>\n",
       "    <tr>\n",
       "      <th>...</th>\n",
       "      <td>...</td>\n",
       "      <td>...</td>\n",
       "      <td>...</td>\n",
       "      <td>...</td>\n",
       "      <td>...</td>\n",
       "      <td>...</td>\n",
       "      <td>...</td>\n",
       "      <td>...</td>\n",
       "      <td>...</td>\n",
       "      <td>...</td>\n",
       "      <td>...</td>\n",
       "      <td>...</td>\n",
       "      <td>...</td>\n",
       "      <td>...</td>\n",
       "      <td>...</td>\n",
       "      <td>...</td>\n",
       "      <td>...</td>\n",
       "      <td>...</td>\n",
       "      <td>...</td>\n",
       "      <td>...</td>\n",
       "      <td>...</td>\n",
       "    </tr>\n",
       "    <tr>\n",
       "      <th>1723060</th>\n",
       "      <td>1723060</td>\n",
       "      <td>marshall</td>\n",
       "      <td>8450</td>\n",
       "      <td>2005.0</td>\n",
       "      <td>NaN</td>\n",
       "      <td>NICE</td>\n",
       "      <td>like new</td>\n",
       "      <td>8 cylinders</td>\n",
       "      <td>gas</td>\n",
       "      <td>162000.0</td>\n",
       "      <td>...</td>\n",
       "      <td>NaN</td>\n",
       "      <td>NaN</td>\n",
       "      <td>43.544168</td>\n",
       "      <td>-96.763372</td>\n",
       "      <td>46099.0</td>\n",
       "      <td>Minnehaha</td>\n",
       "      <td>46.0</td>\n",
       "      <td>SD</td>\n",
       "      <td>South Dakota</td>\n",
       "      <td>38.0</td>\n",
       "    </tr>\n",
       "    <tr>\n",
       "      <th>1723061</th>\n",
       "      <td>1723061</td>\n",
       "      <td>marshall</td>\n",
       "      <td>6000</td>\n",
       "      <td>2005.0</td>\n",
       "      <td>chevy</td>\n",
       "      <td>avalanche</td>\n",
       "      <td>good</td>\n",
       "      <td>8 cylinders</td>\n",
       "      <td>gas</td>\n",
       "      <td>NaN</td>\n",
       "      <td>...</td>\n",
       "      <td>NaN</td>\n",
       "      <td>NaN</td>\n",
       "      <td>43.345100</td>\n",
       "      <td>-96.882100</td>\n",
       "      <td>46083.0</td>\n",
       "      <td>Lincoln</td>\n",
       "      <td>46.0</td>\n",
       "      <td>SD</td>\n",
       "      <td>South Dakota</td>\n",
       "      <td>38.0</td>\n",
       "    </tr>\n",
       "    <tr>\n",
       "      <th>1723062</th>\n",
       "      <td>1723062</td>\n",
       "      <td>marshall</td>\n",
       "      <td>1500</td>\n",
       "      <td>2007.0</td>\n",
       "      <td>volkswagen</td>\n",
       "      <td>jetta sedan</td>\n",
       "      <td>NaN</td>\n",
       "      <td>NaN</td>\n",
       "      <td>gas</td>\n",
       "      <td>0.0</td>\n",
       "      <td>...</td>\n",
       "      <td>NaN</td>\n",
       "      <td>NaN</td>\n",
       "      <td>41.622572</td>\n",
       "      <td>-87.632656</td>\n",
       "      <td>17031.0</td>\n",
       "      <td>Cook</td>\n",
       "      <td>17.0</td>\n",
       "      <td>IL</td>\n",
       "      <td>Illinois</td>\n",
       "      <td>48.0</td>\n",
       "    </tr>\n",
       "    <tr>\n",
       "      <th>1723063</th>\n",
       "      <td>1723063</td>\n",
       "      <td>marshall</td>\n",
       "      <td>4788</td>\n",
       "      <td>2009.0</td>\n",
       "      <td>toyota</td>\n",
       "      <td>camry</td>\n",
       "      <td>good</td>\n",
       "      <td>4 cylinders</td>\n",
       "      <td>gas</td>\n",
       "      <td>210682.0</td>\n",
       "      <td>...</td>\n",
       "      <td>sedan</td>\n",
       "      <td>red</td>\n",
       "      <td>43.388900</td>\n",
       "      <td>-95.136900</td>\n",
       "      <td>19059.0</td>\n",
       "      <td>Dickinson</td>\n",
       "      <td>19.0</td>\n",
       "      <td>IA</td>\n",
       "      <td>Iowa</td>\n",
       "      <td>47.0</td>\n",
       "    </tr>\n",
       "    <tr>\n",
       "      <th>1723064</th>\n",
       "      <td>1723064</td>\n",
       "      <td>marshall</td>\n",
       "      <td>2000</td>\n",
       "      <td>1980.0</td>\n",
       "      <td>lincoln</td>\n",
       "      <td>continental</td>\n",
       "      <td>good</td>\n",
       "      <td>8 cylinders</td>\n",
       "      <td>gas</td>\n",
       "      <td>74978.0</td>\n",
       "      <td>...</td>\n",
       "      <td>coupe</td>\n",
       "      <td>blue</td>\n",
       "      <td>43.438700</td>\n",
       "      <td>-96.425200</td>\n",
       "      <td>19119.0</td>\n",
       "      <td>Lyon</td>\n",
       "      <td>19.0</td>\n",
       "      <td>IA</td>\n",
       "      <td>Iowa</td>\n",
       "      <td>47.0</td>\n",
       "    </tr>\n",
       "  </tbody>\n",
       "</table>\n",
       "<p>1723065 rows × 25 columns</p>\n",
       "</div>"
      ],
      "text/plain": [
       "         Unnamed: 0      city  price    year manufacturer             make  \\\n",
       "0                 0  marshall  11900  2010.0        dodge    challenger se   \n",
       "1                 1  marshall   1515  1999.0          NaN        fleetwood   \n",
       "2                 2  marshall  17550  2008.0         ford            f-150   \n",
       "3                 3  marshall   2800  2004.0         ford           taurus   \n",
       "4                 4  marshall    400  2001.0          NaN  2001 Grand Prix   \n",
       "...             ...       ...    ...     ...          ...              ...   \n",
       "1723060     1723060  marshall   8450  2005.0          NaN             NICE   \n",
       "1723061     1723061  marshall   6000  2005.0        chevy        avalanche   \n",
       "1723062     1723062  marshall   1500  2007.0   volkswagen      jetta sedan   \n",
       "1723063     1723063  marshall   4788  2009.0       toyota            camry   \n",
       "1723064     1723064  marshall   2000  1980.0      lincoln      continental   \n",
       "\n",
       "        condition    cylinders fuel  odometer  ...   type paint_color  \\\n",
       "0            good  6 cylinders  gas   43600.0  ...  coupe         red   \n",
       "1             NaN          NaN  gas       NaN  ...    NaN         NaN   \n",
       "2             NaN          NaN  gas       NaN  ...    NaN         NaN   \n",
       "3            good  6 cylinders  gas  168591.0  ...  sedan        grey   \n",
       "4             NaN          NaN  gas  217000.0  ...    NaN         NaN   \n",
       "...           ...          ...  ...       ...  ...    ...         ...   \n",
       "1723060  like new  8 cylinders  gas  162000.0  ...    NaN         NaN   \n",
       "1723061      good  8 cylinders  gas       NaN  ...    NaN         NaN   \n",
       "1723062       NaN          NaN  gas       0.0  ...    NaN         NaN   \n",
       "1723063      good  4 cylinders  gas  210682.0  ...  sedan         red   \n",
       "1723064      good  8 cylinders  gas   74978.0  ...  coupe        blue   \n",
       "\n",
       "               lat        long county_fips county_name state_fips  state_code  \\\n",
       "0        43.477500  -96.704100     46083.0     Lincoln       46.0          SD   \n",
       "1        44.761200  -96.690700     46039.0       Deuel       46.0          SD   \n",
       "2        44.141500 -103.205200     46093.0       Meade       46.0          SD   \n",
       "3        43.284500  -95.593000     19143.0     Osceola       19.0          IA   \n",
       "4        43.026100  -94.406400     19109.0     Kossuth       19.0          IA   \n",
       "...            ...         ...         ...         ...        ...         ...   \n",
       "1723060  43.544168  -96.763372     46099.0   Minnehaha       46.0          SD   \n",
       "1723061  43.345100  -96.882100     46083.0     Lincoln       46.0          SD   \n",
       "1723062  41.622572  -87.632656     17031.0        Cook       17.0          IL   \n",
       "1723063  43.388900  -95.136900     19059.0   Dickinson       19.0          IA   \n",
       "1723064  43.438700  -96.425200     19119.0        Lyon       19.0          IA   \n",
       "\n",
       "           state_name  weather  \n",
       "0        South Dakota     38.0  \n",
       "1        South Dakota     38.0  \n",
       "2        South Dakota     38.0  \n",
       "3                Iowa     47.0  \n",
       "4                Iowa     47.0  \n",
       "...               ...      ...  \n",
       "1723060  South Dakota     38.0  \n",
       "1723061  South Dakota     38.0  \n",
       "1723062      Illinois     48.0  \n",
       "1723063          Iowa     47.0  \n",
       "1723064          Iowa     47.0  \n",
       "\n",
       "[1723065 rows x 25 columns]"
      ]
     },
     "execution_count": 278,
     "metadata": {},
     "output_type": "execute_result"
    }
   ],
   "source": [
    "import pandas as pd\n",
    "import numpy as np\n",
    "from matplotlib import pyplot as plt\n",
    "import seaborn as sns\n",
    "import warnings\n",
    "warnings.filterwarnings('ignore')\n",
    "\n",
    "df = pd.DataFrame(pd.read_csv(\"data/skychallenge_car_data.csv\"))\n",
    "df"
   ]
  },
  {
   "cell_type": "code",
   "execution_count": 279,
   "metadata": {},
   "outputs": [
    {
     "name": "stdout",
     "output_type": "stream",
     "text": [
      "<class 'pandas.core.frame.DataFrame'>\n",
      "RangeIndex: 1723065 entries, 0 to 1723064\n",
      "Data columns (total 25 columns):\n",
      " #   Column        Dtype   \n",
      "---  ------        -----   \n",
      " 0   city          category\n",
      " 1   manufacturer  category\n",
      " 2   make          category\n",
      " 3   condition     category\n",
      " 4   cylinders     category\n",
      " 5   fuel          category\n",
      " 6   title_status  category\n",
      " 7   transmission  category\n",
      " 8   vin           category\n",
      " 9   drive         category\n",
      " 10  size          category\n",
      " 11  type          category\n",
      " 12  paint_color   category\n",
      " 13  county_name   category\n",
      " 14  state_code    category\n",
      " 15  state_name    category\n",
      " 16  Unnamed: 0    int64   \n",
      " 17  price         int64   \n",
      " 18  year          float64 \n",
      " 19  odometer      float64 \n",
      " 20  lat           float64 \n",
      " 21  long          float64 \n",
      " 22  county_fips   float64 \n",
      " 23  state_fips    float64 \n",
      " 24  weather       float64 \n",
      "dtypes: category(16), float64(7), int64(2)\n",
      "memory usage: 176.1 MB\n"
     ]
    }
   ],
   "source": [
    "df_cat.info()"
   ]
  },
  {
   "cell_type": "code",
   "execution_count": 280,
   "metadata": {},
   "outputs": [
    {
     "data": {
      "text/plain": [
       "city            1723065\n",
       "manufacturer    1586651\n",
       "make            1653366\n",
       "condition       1022275\n",
       "cylinders       1031774\n",
       "fuel            1712698\n",
       "title_status    1720511\n",
       "transmission    1714043\n",
       "vin              604850\n",
       "drive           1061181\n",
       "size             599098\n",
       "type            1020134\n",
       "paint_color     1027415\n",
       "county_name     1664232\n",
       "state_code      1664232\n",
       "state_name      1723065\n",
       "Unnamed: 0      1723065\n",
       "price           1723065\n",
       "year            1716750\n",
       "odometer        1159011\n",
       "lat             1723065\n",
       "long            1723065\n",
       "county_fips     1664232\n",
       "state_fips      1664232\n",
       "weather         1663637\n",
       "dtype: int64"
      ]
     },
     "execution_count": 280,
     "metadata": {},
     "output_type": "execute_result"
    }
   ],
   "source": [
    "df_cat.count()"
   ]
  },
  {
   "cell_type": "markdown",
   "metadata": {},
   "source": [
    "### Next, I suspect 'manufacturer' column of having different values, but corresponding to the same manufacturer"
   ]
  },
  {
   "cell_type": "code",
   "execution_count": 281,
   "metadata": {},
   "outputs": [
    {
     "data": {
      "text/plain": [
       "['acura',\n",
       " 'alfa-romeo',\n",
       " 'aston-martin',\n",
       " 'audi',\n",
       " 'bmw',\n",
       " 'buick',\n",
       " 'cadillac',\n",
       " 'chevrolet',\n",
       " 'chrysler',\n",
       " 'datsun',\n",
       " 'dodge',\n",
       " 'ferrari',\n",
       " 'fiat',\n",
       " 'ford',\n",
       " 'harley',\n",
       " 'hennessey',\n",
       " 'honda',\n",
       " 'hyundai',\n",
       " 'infiniti',\n",
       " 'jaguar',\n",
       " 'jeep',\n",
       " 'kia',\n",
       " 'land rover',\n",
       " 'lexus',\n",
       " 'lincoln',\n",
       " 'mazda',\n",
       " 'mercedes-benz',\n",
       " 'mercury',\n",
       " 'mini',\n",
       " 'mitsubishi',\n",
       " 'morgan',\n",
       " 'nissan',\n",
       " 'noble',\n",
       " 'pontiac',\n",
       " 'porche',\n",
       " 'ram',\n",
       " 'rover',\n",
       " 'saturn',\n",
       " 'subaru',\n",
       " 'toyota',\n",
       " 'volkswagen',\n",
       " 'volvo']"
      ]
     },
     "execution_count": 281,
     "metadata": {},
     "output_type": "execute_result"
    }
   ],
   "source": [
    "sorted(df_cat[\"manufacturer\"].dropna().unique())"
   ]
  },
  {
   "cell_type": "markdown",
   "metadata": {},
   "source": [
    "### Let's fix this and see unique values in 'manufacturers' once again"
   ]
  },
  {
   "cell_type": "code",
   "execution_count": 282,
   "metadata": {},
   "outputs": [
    {
     "data": {
      "text/plain": [
       "['acura',\n",
       " 'alfa-romeo',\n",
       " 'aston-martin',\n",
       " 'audi',\n",
       " 'bmw',\n",
       " 'buick',\n",
       " 'cadillac',\n",
       " 'chevrolet',\n",
       " 'chrysler',\n",
       " 'datsun',\n",
       " 'dodge',\n",
       " 'ferrari',\n",
       " 'fiat',\n",
       " 'ford',\n",
       " 'harley',\n",
       " 'hennessey',\n",
       " 'honda',\n",
       " 'hyundai',\n",
       " 'infiniti',\n",
       " 'jaguar',\n",
       " 'jeep',\n",
       " 'kia',\n",
       " 'land rover',\n",
       " 'lexus',\n",
       " 'lincoln',\n",
       " 'mazda',\n",
       " 'mercedes-benz',\n",
       " 'mercury',\n",
       " 'mini',\n",
       " 'mitsubishi',\n",
       " 'morgan',\n",
       " 'nan',\n",
       " 'nissan',\n",
       " 'noble',\n",
       " 'pontiac',\n",
       " 'porche',\n",
       " 'ram',\n",
       " 'rover',\n",
       " 'saturn',\n",
       " 'subaru',\n",
       " 'toyota',\n",
       " 'volkswagen',\n",
       " 'volvo']"
      ]
     },
     "execution_count": 282,
     "metadata": {},
     "output_type": "execute_result"
    }
   ],
   "source": [
    "equivalents = {\n",
    "    \"volkswagen\": [\"vw\"],\n",
    "    \"alfa-romeo\": [\"alfa\"],\n",
    "    \"mercedes-benz\": [\"mercedes\", \"mercedesbenz\"],\n",
    "    \"land rover\": [\"landrover\"],\n",
    "    \"infiniti\": [\"infinity\"],\n",
    "    \"chevrolet\": [\"chevy\", \"chev\"],\n",
    "    \"aston-martin\": [\"aston\"],\n",
    "    \"dodge\": [\"gmc\"],\n",
    "    \"harley\": [\"harley-davidson\"]\n",
    "}\n",
    "\n",
    "for (key, values) in equivalents.items():\n",
    "    for eq in values:\n",
    "        df_cat.replace(eq, key, inplace = True)\n",
    "sorted(df_cat['manufacturer'].astype('str').unique())"
   ]
  },
  {
   "cell_type": "markdown",
   "metadata": {},
   "source": [
    "### Now I'm checking if there are any columns that can be fixed the same way\n",
    "### Spoiler alert: There's no such a column"
   ]
  },
  {
   "cell_type": "code",
   "execution_count": 283,
   "metadata": {},
   "outputs": [
    {
     "data": {
      "text/plain": [
       "Index(['city', 'manufacturer', 'make', 'condition', 'cylinders', 'fuel',\n",
       "       'title_status', 'transmission', 'vin', 'drive', 'size', 'type',\n",
       "       'paint_color', 'county_name', 'state_code', 'state_name', 'Unnamed: 0',\n",
       "       'price', 'year', 'odometer', 'lat', 'long', 'county_fips', 'state_fips',\n",
       "       'weather'],\n",
       "      dtype='object')"
      ]
     },
     "execution_count": 283,
     "metadata": {},
     "output_type": "execute_result"
    }
   ],
   "source": [
    "df_cat.columns"
   ]
  },
  {
   "cell_type": "code",
   "execution_count": 284,
   "metadata": {},
   "outputs": [
    {
     "data": {
      "text/plain": [
       "111746"
      ]
     },
     "execution_count": 284,
     "metadata": {},
     "output_type": "execute_result"
    }
   ],
   "source": [
    "len((df_cat[\"manufacturer\"].astype('str')+ \" \" + df_cat[\"make\"].astype('str')).unique()) #pretty big to fix it by hand"
   ]
  },
  {
   "cell_type": "code",
   "execution_count": 285,
   "metadata": {},
   "outputs": [
    {
     "data": {
      "text/plain": [
       "[good, NaN, like new, excellent, new, fair, salvage]\n",
       "Categories (6, object): [excellent < fair < good < like new < new < salvage]"
      ]
     },
     "execution_count": 285,
     "metadata": {},
     "output_type": "execute_result"
    }
   ],
   "source": [
    "df_cat['condition'].unique()"
   ]
  },
  {
   "cell_type": "code",
   "execution_count": 286,
   "metadata": {},
   "outputs": [
    {
     "data": {
      "text/plain": [
       "city                470\n",
       "manufacturer         42\n",
       "make             107445\n",
       "condition             6\n",
       "cylinders             8\n",
       "fuel                  5\n",
       "title_status          6\n",
       "transmission          3\n",
       "vin              316207\n",
       "drive                 3\n",
       "size                  4\n",
       "type                 13\n",
       "paint_color          12\n",
       "county_name        1834\n",
       "state_code           51\n",
       "state_name           52\n",
       "Unnamed: 0      1723065\n",
       "price             30349\n",
       "year                126\n",
       "odometer         172208\n",
       "lat              275441\n",
       "long             271604\n",
       "county_fips        3111\n",
       "state_fips           51\n",
       "weather              26\n",
       "dtype: int64"
      ]
     },
     "execution_count": 286,
     "metadata": {},
     "output_type": "execute_result"
    }
   ],
   "source": [
    "df_cat.nunique()"
   ]
  },
  {
   "cell_type": "markdown",
   "metadata": {},
   "source": [
    "### Now, I'm dropping every data that is irrelevant: state and county things - because we already have lat and long, vin"
   ]
  },
  {
   "cell_type": "code",
   "execution_count": 287,
   "metadata": {},
   "outputs": [
    {
     "data": {
      "text/html": [
       "<div>\n",
       "<style scoped>\n",
       "    .dataframe tbody tr th:only-of-type {\n",
       "        vertical-align: middle;\n",
       "    }\n",
       "\n",
       "    .dataframe tbody tr th {\n",
       "        vertical-align: top;\n",
       "    }\n",
       "\n",
       "    .dataframe thead th {\n",
       "        text-align: right;\n",
       "    }\n",
       "</style>\n",
       "<table border=\"1\" class=\"dataframe\">\n",
       "  <thead>\n",
       "    <tr style=\"text-align: right;\">\n",
       "      <th></th>\n",
       "      <th>manufacturer</th>\n",
       "      <th>make</th>\n",
       "      <th>condition</th>\n",
       "      <th>cylinders</th>\n",
       "      <th>fuel</th>\n",
       "      <th>title_status</th>\n",
       "      <th>transmission</th>\n",
       "      <th>drive</th>\n",
       "      <th>size</th>\n",
       "      <th>type</th>\n",
       "      <th>paint_color</th>\n",
       "      <th>Unnamed: 0</th>\n",
       "      <th>price</th>\n",
       "      <th>year</th>\n",
       "      <th>odometer</th>\n",
       "      <th>lat</th>\n",
       "      <th>long</th>\n",
       "      <th>weather</th>\n",
       "    </tr>\n",
       "  </thead>\n",
       "  <tbody>\n",
       "    <tr>\n",
       "      <th>0</th>\n",
       "      <td>dodge</td>\n",
       "      <td>challenger se</td>\n",
       "      <td>good</td>\n",
       "      <td>6 cylinders</td>\n",
       "      <td>gas</td>\n",
       "      <td>clean</td>\n",
       "      <td>automatic</td>\n",
       "      <td>rwd</td>\n",
       "      <td>NaN</td>\n",
       "      <td>coupe</td>\n",
       "      <td>red</td>\n",
       "      <td>0</td>\n",
       "      <td>11900</td>\n",
       "      <td>2010.0</td>\n",
       "      <td>43600.0</td>\n",
       "      <td>43.477500</td>\n",
       "      <td>-96.704100</td>\n",
       "      <td>38.0</td>\n",
       "    </tr>\n",
       "    <tr>\n",
       "      <th>1</th>\n",
       "      <td>NaN</td>\n",
       "      <td>fleetwood</td>\n",
       "      <td>NaN</td>\n",
       "      <td>NaN</td>\n",
       "      <td>gas</td>\n",
       "      <td>clean</td>\n",
       "      <td>other</td>\n",
       "      <td>NaN</td>\n",
       "      <td>NaN</td>\n",
       "      <td>NaN</td>\n",
       "      <td>NaN</td>\n",
       "      <td>1</td>\n",
       "      <td>1515</td>\n",
       "      <td>1999.0</td>\n",
       "      <td>NaN</td>\n",
       "      <td>44.761200</td>\n",
       "      <td>-96.690700</td>\n",
       "      <td>38.0</td>\n",
       "    </tr>\n",
       "    <tr>\n",
       "      <th>2</th>\n",
       "      <td>ford</td>\n",
       "      <td>f-150</td>\n",
       "      <td>NaN</td>\n",
       "      <td>NaN</td>\n",
       "      <td>gas</td>\n",
       "      <td>clean</td>\n",
       "      <td>automatic</td>\n",
       "      <td>NaN</td>\n",
       "      <td>NaN</td>\n",
       "      <td>NaN</td>\n",
       "      <td>NaN</td>\n",
       "      <td>2</td>\n",
       "      <td>17550</td>\n",
       "      <td>2008.0</td>\n",
       "      <td>NaN</td>\n",
       "      <td>44.141500</td>\n",
       "      <td>-103.205200</td>\n",
       "      <td>38.0</td>\n",
       "    </tr>\n",
       "    <tr>\n",
       "      <th>3</th>\n",
       "      <td>ford</td>\n",
       "      <td>taurus</td>\n",
       "      <td>good</td>\n",
       "      <td>6 cylinders</td>\n",
       "      <td>gas</td>\n",
       "      <td>clean</td>\n",
       "      <td>automatic</td>\n",
       "      <td>fwd</td>\n",
       "      <td>full-size</td>\n",
       "      <td>sedan</td>\n",
       "      <td>grey</td>\n",
       "      <td>3</td>\n",
       "      <td>2800</td>\n",
       "      <td>2004.0</td>\n",
       "      <td>168591.0</td>\n",
       "      <td>43.284500</td>\n",
       "      <td>-95.593000</td>\n",
       "      <td>47.0</td>\n",
       "    </tr>\n",
       "    <tr>\n",
       "      <th>4</th>\n",
       "      <td>NaN</td>\n",
       "      <td>2001 Grand Prix</td>\n",
       "      <td>NaN</td>\n",
       "      <td>NaN</td>\n",
       "      <td>gas</td>\n",
       "      <td>clean</td>\n",
       "      <td>automatic</td>\n",
       "      <td>NaN</td>\n",
       "      <td>NaN</td>\n",
       "      <td>NaN</td>\n",
       "      <td>NaN</td>\n",
       "      <td>4</td>\n",
       "      <td>400</td>\n",
       "      <td>2001.0</td>\n",
       "      <td>217000.0</td>\n",
       "      <td>43.026100</td>\n",
       "      <td>-94.406400</td>\n",
       "      <td>47.0</td>\n",
       "    </tr>\n",
       "    <tr>\n",
       "      <th>...</th>\n",
       "      <td>...</td>\n",
       "      <td>...</td>\n",
       "      <td>...</td>\n",
       "      <td>...</td>\n",
       "      <td>...</td>\n",
       "      <td>...</td>\n",
       "      <td>...</td>\n",
       "      <td>...</td>\n",
       "      <td>...</td>\n",
       "      <td>...</td>\n",
       "      <td>...</td>\n",
       "      <td>...</td>\n",
       "      <td>...</td>\n",
       "      <td>...</td>\n",
       "      <td>...</td>\n",
       "      <td>...</td>\n",
       "      <td>...</td>\n",
       "      <td>...</td>\n",
       "    </tr>\n",
       "    <tr>\n",
       "      <th>1723060</th>\n",
       "      <td>NaN</td>\n",
       "      <td>NICE</td>\n",
       "      <td>like new</td>\n",
       "      <td>8 cylinders</td>\n",
       "      <td>gas</td>\n",
       "      <td>clean</td>\n",
       "      <td>automatic</td>\n",
       "      <td>4wd</td>\n",
       "      <td>NaN</td>\n",
       "      <td>NaN</td>\n",
       "      <td>NaN</td>\n",
       "      <td>1723060</td>\n",
       "      <td>8450</td>\n",
       "      <td>2005.0</td>\n",
       "      <td>162000.0</td>\n",
       "      <td>43.544168</td>\n",
       "      <td>-96.763372</td>\n",
       "      <td>38.0</td>\n",
       "    </tr>\n",
       "    <tr>\n",
       "      <th>1723061</th>\n",
       "      <td>chevrolet</td>\n",
       "      <td>avalanche</td>\n",
       "      <td>good</td>\n",
       "      <td>8 cylinders</td>\n",
       "      <td>gas</td>\n",
       "      <td>clean</td>\n",
       "      <td>automatic</td>\n",
       "      <td>4wd</td>\n",
       "      <td>NaN</td>\n",
       "      <td>NaN</td>\n",
       "      <td>NaN</td>\n",
       "      <td>1723061</td>\n",
       "      <td>6000</td>\n",
       "      <td>2005.0</td>\n",
       "      <td>NaN</td>\n",
       "      <td>43.345100</td>\n",
       "      <td>-96.882100</td>\n",
       "      <td>38.0</td>\n",
       "    </tr>\n",
       "    <tr>\n",
       "      <th>1723062</th>\n",
       "      <td>volkswagen</td>\n",
       "      <td>jetta sedan</td>\n",
       "      <td>NaN</td>\n",
       "      <td>NaN</td>\n",
       "      <td>gas</td>\n",
       "      <td>clean</td>\n",
       "      <td>automatic</td>\n",
       "      <td>NaN</td>\n",
       "      <td>NaN</td>\n",
       "      <td>NaN</td>\n",
       "      <td>NaN</td>\n",
       "      <td>1723062</td>\n",
       "      <td>1500</td>\n",
       "      <td>2007.0</td>\n",
       "      <td>0.0</td>\n",
       "      <td>41.622572</td>\n",
       "      <td>-87.632656</td>\n",
       "      <td>48.0</td>\n",
       "    </tr>\n",
       "    <tr>\n",
       "      <th>1723063</th>\n",
       "      <td>toyota</td>\n",
       "      <td>camry</td>\n",
       "      <td>good</td>\n",
       "      <td>4 cylinders</td>\n",
       "      <td>gas</td>\n",
       "      <td>clean</td>\n",
       "      <td>automatic</td>\n",
       "      <td>fwd</td>\n",
       "      <td>mid-size</td>\n",
       "      <td>sedan</td>\n",
       "      <td>red</td>\n",
       "      <td>1723063</td>\n",
       "      <td>4788</td>\n",
       "      <td>2009.0</td>\n",
       "      <td>210682.0</td>\n",
       "      <td>43.388900</td>\n",
       "      <td>-95.136900</td>\n",
       "      <td>47.0</td>\n",
       "    </tr>\n",
       "    <tr>\n",
       "      <th>1723064</th>\n",
       "      <td>lincoln</td>\n",
       "      <td>continental</td>\n",
       "      <td>good</td>\n",
       "      <td>8 cylinders</td>\n",
       "      <td>gas</td>\n",
       "      <td>clean</td>\n",
       "      <td>automatic</td>\n",
       "      <td>rwd</td>\n",
       "      <td>full-size</td>\n",
       "      <td>coupe</td>\n",
       "      <td>blue</td>\n",
       "      <td>1723064</td>\n",
       "      <td>2000</td>\n",
       "      <td>1980.0</td>\n",
       "      <td>74978.0</td>\n",
       "      <td>43.438700</td>\n",
       "      <td>-96.425200</td>\n",
       "      <td>47.0</td>\n",
       "    </tr>\n",
       "  </tbody>\n",
       "</table>\n",
       "<p>1723065 rows × 18 columns</p>\n",
       "</div>"
      ],
      "text/plain": [
       "        manufacturer             make condition    cylinders fuel  \\\n",
       "0              dodge    challenger se      good  6 cylinders  gas   \n",
       "1                NaN        fleetwood       NaN          NaN  gas   \n",
       "2               ford            f-150       NaN          NaN  gas   \n",
       "3               ford           taurus      good  6 cylinders  gas   \n",
       "4                NaN  2001 Grand Prix       NaN          NaN  gas   \n",
       "...              ...              ...       ...          ...  ...   \n",
       "1723060          NaN             NICE  like new  8 cylinders  gas   \n",
       "1723061    chevrolet        avalanche      good  8 cylinders  gas   \n",
       "1723062   volkswagen      jetta sedan       NaN          NaN  gas   \n",
       "1723063       toyota            camry      good  4 cylinders  gas   \n",
       "1723064      lincoln      continental      good  8 cylinders  gas   \n",
       "\n",
       "        title_status transmission drive       size   type paint_color  \\\n",
       "0              clean    automatic   rwd        NaN  coupe         red   \n",
       "1              clean        other   NaN        NaN    NaN         NaN   \n",
       "2              clean    automatic   NaN        NaN    NaN         NaN   \n",
       "3              clean    automatic   fwd  full-size  sedan        grey   \n",
       "4              clean    automatic   NaN        NaN    NaN         NaN   \n",
       "...              ...          ...   ...        ...    ...         ...   \n",
       "1723060        clean    automatic   4wd        NaN    NaN         NaN   \n",
       "1723061        clean    automatic   4wd        NaN    NaN         NaN   \n",
       "1723062        clean    automatic   NaN        NaN    NaN         NaN   \n",
       "1723063        clean    automatic   fwd   mid-size  sedan         red   \n",
       "1723064        clean    automatic   rwd  full-size  coupe        blue   \n",
       "\n",
       "         Unnamed: 0  price    year  odometer        lat        long  weather  \n",
       "0                 0  11900  2010.0   43600.0  43.477500  -96.704100     38.0  \n",
       "1                 1   1515  1999.0       NaN  44.761200  -96.690700     38.0  \n",
       "2                 2  17550  2008.0       NaN  44.141500 -103.205200     38.0  \n",
       "3                 3   2800  2004.0  168591.0  43.284500  -95.593000     47.0  \n",
       "4                 4    400  2001.0  217000.0  43.026100  -94.406400     47.0  \n",
       "...             ...    ...     ...       ...        ...         ...      ...  \n",
       "1723060     1723060   8450  2005.0  162000.0  43.544168  -96.763372     38.0  \n",
       "1723061     1723061   6000  2005.0       NaN  43.345100  -96.882100     38.0  \n",
       "1723062     1723062   1500  2007.0       0.0  41.622572  -87.632656     48.0  \n",
       "1723063     1723063   4788  2009.0  210682.0  43.388900  -95.136900     47.0  \n",
       "1723064     1723064   2000  1980.0   74978.0  43.438700  -96.425200     47.0  \n",
       "\n",
       "[1723065 rows x 18 columns]"
      ]
     },
     "execution_count": 287,
     "metadata": {},
     "output_type": "execute_result"
    }
   ],
   "source": [
    "df3 = df_cat.drop(columns=['county_fips', 'county_name', 'state_fips', 'state_code', 'state_name', 'vin', 'city'])\n",
    "df3"
   ]
  },
  {
   "cell_type": "markdown",
   "metadata": {},
   "source": [
    "### Now, let's see JointPlots against price from randomly selected samples"
   ]
  },
  {
   "cell_type": "code",
   "execution_count": 288,
   "metadata": {},
   "outputs": [
    {
     "data": {
      "text/plain": [
       "<seaborn.axisgrid.PairGrid at 0x292f1b05bc8>"
      ]
     },
     "execution_count": 288,
     "metadata": {},
     "output_type": "execute_result"
    },
    {
     "data": {
      "image/png": "[encoded data removed]",
      "text/plain": [
       "<Figure size 1620x180 with 9 Axes>"
      ]
     },
     "metadata": {
      "needs_background": "light"
     },
     "output_type": "display_data"
    }
   ],
   "source": [
    "data = df3.dropna().sample(300).apply(lambda x: x.cat.codes if hasattr(x, 'cat') else x) #Use category code if column is categorical\n",
    "g = sns.pairplot(data = data, \n",
    "                 y_vars = ['price'], \n",
    "                 x_vars = ['condition', 'cylinders', 'fuel', 'transmission', 'year', 'odometer', 'lat', 'long', 'weather'], \n",
    "                 kind = 'reg', \n",
    "                 plot_kws={'line_kws':{'color':'red'}, 'scatter_kws': {'alpha': 0.9}})\n",
    "g.map(plt.scatter)"
   ]
  },
  {
   "cell_type": "markdown",
   "metadata": {},
   "source": [
    "### Now, we can see that year and odometer might have the biggest influence on price, as we'd suggest.\n",
    "### Let's filter the data and see how price looks on georaphical map."
   ]
  },
  {
   "cell_type": "code",
   "execution_count": 289,
   "metadata": {},
   "outputs": [],
   "source": [
    "def filter_outliers(df, column, left=0.005, right = 0.995, mode = 'quantiles'):\n",
    "    if(mode=='quantiles'):\n",
    "        q_low = df3[column].quantile(left)\n",
    "        q_hi = df3[column].quantile(right)\n",
    "        return df[~((df[column]<q_low)|(df[column]>q_hi))]\n",
    "    elif(mode=='std'):\n",
    "        return df.where(~(df[column] > df[column].mean() + 3*df[column].std()))"
   ]
  },
  {
   "cell_type": "code",
   "execution_count": 290,
   "metadata": {},
   "outputs": [
    {
     "data": {
      "image/png": "[encoded data removed]",
      "text/plain": [
       "<Figure size 432x288 with 2 Axes>"
      ]
     },
     "metadata": {
      "needs_background": "light"
     },
     "output_type": "display_data"
    }
   ],
   "source": [
    "fp = filter_outliers(df3, \"price\")\n",
    "fo = filter_outliers(fp, \"odometer\", left = 0, right=0.999) #Odometer from 0-1600000. \n",
    "fy = filter_outliers(fp, column='odometer', mode='std')\n",
    "\n",
    "lat_long_price = fy[['lat', 'long', 'price']].dropna()[['lat', 'long', 'price']].apply(lambda x: np.round(x, 0)).groupby(['lat', 'long'])['price'].median().unstack().fillna(0)\n",
    "ax = sns.heatmap(lat_long_price)\n",
    "ax.invert_yaxis()"
   ]
  },
  {
   "cell_type": "code",
   "execution_count": 291,
   "metadata": {},
   "outputs": [
    {
     "data": {
      "text/plain": [
       "98.97141363986587"
      ]
     },
     "execution_count": 291,
     "metadata": {},
     "output_type": "execute_result"
    }
   ],
   "source": [
    "### Let's also check how big part of our data comes from USA\n",
    "lat_bounds = (24, 56)\n",
    "long_bounds = (-154, -60)\n",
    "df_usa = fy[fy['long'].between(*long_bounds)][fy['lat'].between(*lat_bounds)]\n",
    "100 * len(df_usa)/len(fy)"
   ]
  },
  {
   "cell_type": "markdown",
   "metadata": {},
   "source": [
    "### We can see that it's about 99%! There's no need to analyze the data outside of USA.\n",
    "### Let's see how our map looks now."
   ]
  },
  {
   "cell_type": "code",
   "execution_count": 292,
   "metadata": {},
   "outputs": [
    {
     "data": {
      "image/png": "[encoded data removed]",
      "text/plain": [
       "<Figure size 432x288 with 2 Axes>"
      ]
     },
     "metadata": {
      "needs_background": "light"
     },
     "output_type": "display_data"
    }
   ],
   "source": [
    "lat_long_price = df_usa[['lat', 'long', 'price']].dropna()[['lat', 'long', 'price']].apply(lambda x: np.round(x, 0)).groupby(['lat', 'long'])['price'].median().unstack().fillna(0)\n",
    "ax = sns.heatmap(lat_long_price)\n",
    "ax.invert_yaxis()"
   ]
  },
  {
   "cell_type": "markdown",
   "metadata": {},
   "source": [
    "### We can see that many median of price is really hight between long -152 and -127.\n",
    "### Let's check how much of our data points it contains."
   ]
  },
  {
   "cell_type": "code",
   "execution_count": 293,
   "metadata": {},
   "outputs": [
    {
     "data": {
      "text/plain": [
       "0.039779497823619475"
      ]
     },
     "execution_count": 293,
     "metadata": {},
     "output_type": "execute_result"
    }
   ],
   "source": [
    "100 * len(df_usa[df_usa['long'].between(-152, -127)])/len(df_usa)"
   ]
  },
  {
   "cell_type": "markdown",
   "metadata": {},
   "source": [
    "### 4% Of data would be a relevant lose, so let's use the data."
   ]
  },
  {
   "cell_type": "code",
   "execution_count": 294,
   "metadata": {},
   "outputs": [
    {
     "data": {
      "text/plain": [
       "manufacturer    1565082\n",
       "make            1628251\n",
       "condition       1006991\n",
       "cylinders       1016379\n",
       "fuel            1686610\n",
       "title_status    1694317\n",
       "transmission    1687926\n",
       "drive           1044346\n",
       "size             591342\n",
       "type            1003792\n",
       "paint_color     1010546\n",
       "Unnamed: 0      1696854\n",
       "price           1696854\n",
       "year            1690648\n",
       "odometer        1140643\n",
       "lat             1696854\n",
       "long            1696854\n",
       "weather         1640687\n",
       "dtype: int64"
      ]
     },
     "execution_count": 294,
     "metadata": {},
     "output_type": "execute_result"
    }
   ],
   "source": [
    "df_usa.count()"
   ]
  },
  {
   "cell_type": "markdown",
   "metadata": {},
   "source": [
    "### Continuing data cleaning - let's see if drive, size, condition, title_status, type and paint_color have impact on price"
   ]
  },
  {
   "cell_type": "code",
   "execution_count": 295,
   "metadata": {},
   "outputs": [
    {
     "data": {
      "text/plain": [
       "<matplotlib.axes._subplots.AxesSubplot at 0x2930e76e0c8>"
      ]
     },
     "execution_count": 295,
     "metadata": {},
     "output_type": "execute_result"
    },
    {
     "data": {
      "image/png": "[encoded data removed]",
      "text/plain": [
       "<Figure size 432x288 with 1 Axes>"
      ]
     },
     "metadata": {
      "needs_background": "light"
     },
     "output_type": "display_data"
    }
   ],
   "source": [
    "def plot_impact(df, column):\n",
    "    data = df.dropna().apply(lambda x: x.astype('str') if hasattr(x, 'cat') else x).groupby(column)['price'].median().fillna(0)\n",
    "    return data.plot(kind='bar')\n",
    "\n",
    "plot_impact(df_usa, 'size')"
   ]
  },
  {
   "cell_type": "code",
   "execution_count": 296,
   "metadata": {},
   "outputs": [
    {
     "data": {
      "text/plain": [
       "<matplotlib.axes._subplots.AxesSubplot at 0x2932a1ba088>"
      ]
     },
     "execution_count": 296,
     "metadata": {},
     "output_type": "execute_result"
    },
    {
     "data": {
      "image/png": "[encoded data removed]",
      "text/plain": [
       "<Figure size 432x288 with 1 Axes>"
      ]
     },
     "metadata": {
      "needs_background": "light"
     },
     "output_type": "display_data"
    }
   ],
   "source": [
    "plot_impact(df_usa, 'transmission')"
   ]
  },
  {
   "cell_type": "code",
   "execution_count": 297,
   "metadata": {},
   "outputs": [
    {
     "data": {
      "text/plain": [
       "<matplotlib.axes._subplots.AxesSubplot at 0x29267018248>"
      ]
     },
     "execution_count": 297,
     "metadata": {},
     "output_type": "execute_result"
    },
    {
     "data": {
      "image/png": "[encoded data removed]",
      "text/plain": [
       "<Figure size 432x288 with 1 Axes>"
      ]
     },
     "metadata": {
      "needs_background": "light"
     },
     "output_type": "display_data"
    }
   ],
   "source": [
    "plot_impact(df_usa, 'drive')"
   ]
  },
  {
   "cell_type": "code",
   "execution_count": 298,
   "metadata": {},
   "outputs": [
    {
     "data": {
      "text/plain": [
       "<matplotlib.axes._subplots.AxesSubplot at 0x292957520c8>"
      ]
     },
     "execution_count": 298,
     "metadata": {},
     "output_type": "execute_result"
    },
    {
     "data": {
      "image/png": "[encoded data removed]",
      "text/plain": [
       "<Figure size 432x288 with 1 Axes>"
      ]
     },
     "metadata": {
      "needs_background": "light"
     },
     "output_type": "display_data"
    }
   ],
   "source": [
    "plot_impact(df_usa, 'condition')"
   ]
  },
  {
   "cell_type": "code",
   "execution_count": 299,
   "metadata": {},
   "outputs": [
    {
     "data": {
      "text/plain": [
       "<matplotlib.axes._subplots.AxesSubplot at 0x2932a170148>"
      ]
     },
     "execution_count": 299,
     "metadata": {},
     "output_type": "execute_result"
    },
    {
     "data": {
      "image/png": "[encoded data removed]",
      "text/plain": [
       "<Figure size 432x288 with 1 Axes>"
      ]
     },
     "metadata": {
      "needs_background": "light"
     },
     "output_type": "display_data"
    }
   ],
   "source": [
    "plot_impact(df_usa, 'title_status')"
   ]
  },
  {
   "cell_type": "code",
   "execution_count": 300,
   "metadata": {},
   "outputs": [
    {
     "data": {
      "text/plain": [
       "<matplotlib.axes._subplots.AxesSubplot at 0x2932a2ab048>"
      ]
     },
     "execution_count": 300,
     "metadata": {},
     "output_type": "execute_result"
    },
    {
     "data": {
      "image/png": "[encoded data removed]",
      "text/plain": [
       "<Figure size 432x288 with 1 Axes>"
      ]
     },
     "metadata": {
      "needs_background": "light"
     },
     "output_type": "display_data"
    }
   ],
   "source": [
    "plot_impact(df_usa, 'paint_color')"
   ]
  },
  {
   "cell_type": "code",
   "execution_count": 301,
   "metadata": {},
   "outputs": [
    {
     "data": {
      "text/plain": [
       "<matplotlib.axes._subplots.AxesSubplot at 0x2930e65c2c8>"
      ]
     },
     "execution_count": 301,
     "metadata": {},
     "output_type": "execute_result"
    },
    {
     "data": {
      "image/png": "[encoded data removed]",
      "text/plain": [
       "<Figure size 432x288 with 1 Axes>"
      ]
     },
     "metadata": {
      "needs_background": "light"
     },
     "output_type": "display_data"
    }
   ],
   "source": [
    "plot_impact(df_usa, 'type')"
   ]
  },
  {
   "cell_type": "code",
   "execution_count": 302,
   "metadata": {},
   "outputs": [
    {
     "data": {
      "text/plain": [
       "0.9426856995357291"
      ]
     },
     "execution_count": 302,
     "metadata": {},
     "output_type": "execute_result"
    }
   ],
   "source": [
    "def title_mask(title):\n",
    "    return (df_usa['title_status']==title)\n",
    "mask = title_mask('missing') | title_mask('parts only') \n",
    "100 * len(df_usa[mask])/len(df_usa)"
   ]
  },
  {
   "cell_type": "markdown",
   "metadata": {},
   "source": [
    "### Parts only and missing are only 1% of data, but can be problematic for our model.\n",
    "### Let's also drop these categories, since we want to predict prices "
   ]
  },
  {
   "cell_type": "code",
   "execution_count": 303,
   "metadata": {},
   "outputs": [
    {
     "data": {
      "text/plain": [
       "<matplotlib.axes._subplots.AxesSubplot at 0x2932a2dec08>"
      ]
     },
     "execution_count": 303,
     "metadata": {},
     "output_type": "execute_result"
    },
    {
     "data": {
      "image/png": "[encoded data removed]",
      "text/plain": [
       "<Figure size 432x288 with 2 Axes>"
      ]
     },
     "metadata": {
      "needs_background": "light"
     },
     "output_type": "display_data"
    }
   ],
   "source": [
    "sns.heatmap(df_usa.dropna().sample(1000)[['type','size']].groupby(['type', 'size']).size().unstack())"
   ]
  },
  {
   "cell_type": "code",
   "execution_count": 304,
   "metadata": {},
   "outputs": [
    {
     "data": {
      "text/plain": [
       "<matplotlib.axes._subplots.AxesSubplot at 0x2932c244a08>"
      ]
     },
     "execution_count": 304,
     "metadata": {},
     "output_type": "execute_result"
    },
    {
     "data": {
      "image/png": "[encoded data removed]",
      "text/plain": [
       "<Figure size 432x288 with 2 Axes>"
      ]
     },
     "metadata": {
      "needs_background": "light"
     },
     "output_type": "display_data"
    }
   ],
   "source": [
    "sns.heatmap(df_usa.dropna().sample(1000)[['condition','title_status']].groupby(['condition','title_status']).size().unstack())"
   ]
  },
  {
   "cell_type": "markdown",
   "metadata": {},
   "source": [
    "### Checking if we can infer condition from odometer and year values."
   ]
  },
  {
   "cell_type": "code",
   "execution_count": 305,
   "metadata": {},
   "outputs": [
    {
     "data": {
      "text/plain": [
       "<seaborn.axisgrid.FacetGrid at 0x2932c21fd88>"
      ]
     },
     "execution_count": 305,
     "metadata": {},
     "output_type": "execute_result"
    },
    {
     "data": {
      "image/png": "[encoded data removed]",
      "text/plain": [
       "<Figure size 1304x216 with 6 Axes>"
      ]
     },
     "metadata": {
      "needs_background": "light"
     },
     "output_type": "display_data"
    }
   ],
   "source": [
    "sample = df_usa.dropna().groupby('condition').apply(lambda x: x.sample(1000))\n",
    "g = sns.FacetGrid(sample, col='condition')\n",
    "g.map(plt.scatter, \"year\", \"odometer\", edgecolor=\"w\").add_legend()"
   ]
  },
  {
   "cell_type": "markdown",
   "metadata": {},
   "source": [
    "### Let's create some percentage heatmaps and check if we can find anything interesting"
   ]
  },
  {
   "cell_type": "code",
   "execution_count": 306,
   "metadata": {},
   "outputs": [
    {
     "data": {
      "image/png": "[encoded data removed]",
      "text/plain": [
       "<Figure size 432x288 with 2 Axes>"
      ]
     },
     "metadata": {
      "needs_background": "light"
     },
     "output_type": "display_data"
    }
   ],
   "source": [
    "def percentage_heatmap(df, col1, col2, sample_size=-1):\n",
    "    sample = df.dropna()[[col1, col2]]\n",
    "    if(sample_size > -1):\n",
    "        sample = sample.groupby([col1, col2]).apply(lambda x: x.sample(sample_size))\n",
    "    col1_col2 = sample.groupby([col1, col2]).size()\n",
    "    col1_ = sample.groupby([col1]).size()\n",
    "    percentages = col1_col2.div(col1_, level=col1).unstack()\n",
    "    sns.heatmap(percentages, annot=True)\n",
    "\n",
    "percentage_heatmap(df_usa, 'type', 'size')"
   ]
  },
  {
   "cell_type": "code",
   "execution_count": 307,
   "metadata": {},
   "outputs": [
    {
     "data": {
      "image/png": "[encoded data removed]",
      "text/plain": [
       "<Figure size 432x288 with 2 Axes>"
      ]
     },
     "metadata": {
      "needs_background": "light"
     },
     "output_type": "display_data"
    }
   ],
   "source": [
    "percentage_heatmap(df_usa, 'transmission', 'drive')"
   ]
  },
  {
   "cell_type": "markdown",
   "metadata": {},
   "source": [
    "### Seems like condition is linked to odometer and year. We can drop condition to avoid overfitting.\n",
    "### Also type seems not so relevant, as well as weather, size, paint_color, transmission and drive. Fuel is most often linked to given make.\n",
    "### It would also be suitable if we dropped duplicates to avoid overfitting."
   ]
  },
  {
   "cell_type": "code",
   "execution_count": 308,
   "metadata": {},
   "outputs": [],
   "source": [
    "dropped = df_usa[['price', 'manufacturer', 'make', 'odometer', 'year', 'cylinders', 'lat', 'long']].drop_duplicates()"
   ]
  },
  {
   "cell_type": "markdown",
   "metadata": {},
   "source": [
    "### Time for infering. First, let's infer unknown manufacturers from known makes. Most often makes' names are different for every manufacturer."
   ]
  },
  {
   "cell_type": "code",
   "execution_count": 309,
   "metadata": {},
   "outputs": [],
   "source": [
    "most_common_man = dropped[['make', 'manufacturer']].groupby('make')['manufacturer'].agg(pd.Series.mode).dropna()"
   ]
  },
  {
   "cell_type": "code",
   "execution_count": 310,
   "metadata": {},
   "outputs": [],
   "source": [
    "d = most_common_man.to_dict()\n",
    "def most_common_man_for_make(make):\n",
    "    if(make in d.keys()):\n",
    "        try:\n",
    "            return d[make][0]\n",
    "        except:\n",
    "            return None\n",
    "    else:\n",
    "        return None"
   ]
  },
  {
   "cell_type": "code",
   "execution_count": 311,
   "metadata": {},
   "outputs": [],
   "source": [
    "def replace_man(x):\n",
    "    x['manufacturer'] = most_common_man_for_make(x['make'])\n",
    "    return x\n",
    "mask = (dropped['manufacturer'].isna()) & (~dropped['make'].isna())\n",
    "predicted = dropped[['make', 'manufacturer']][mask].apply(replace_man, axis=1)"
   ]
  },
  {
   "cell_type": "code",
   "execution_count": 312,
   "metadata": {},
   "outputs": [
    {
     "data": {
      "text/html": [
       "<div>\n",
       "<style scoped>\n",
       "    .dataframe tbody tr th:only-of-type {\n",
       "        vertical-align: middle;\n",
       "    }\n",
       "\n",
       "    .dataframe tbody tr th {\n",
       "        vertical-align: top;\n",
       "    }\n",
       "\n",
       "    .dataframe thead th {\n",
       "        text-align: right;\n",
       "    }\n",
       "</style>\n",
       "<table border=\"1\" class=\"dataframe\">\n",
       "  <thead>\n",
       "    <tr style=\"text-align: right;\">\n",
       "      <th></th>\n",
       "      <th>make</th>\n",
       "      <th>manufacturer</th>\n",
       "    </tr>\n",
       "  </thead>\n",
       "  <tbody>\n",
       "    <tr>\n",
       "      <th>1</th>\n",
       "      <td>fleetwood</td>\n",
       "      <td>cadillac</td>\n",
       "    </tr>\n",
       "    <tr>\n",
       "      <th>32</th>\n",
       "      <td>model</td>\n",
       "      <td>ford</td>\n",
       "    </tr>\n",
       "    <tr>\n",
       "      <th>33</th>\n",
       "      <td>model</td>\n",
       "      <td>ford</td>\n",
       "    </tr>\n",
       "    <tr>\n",
       "      <th>34</th>\n",
       "      <td>model</td>\n",
       "      <td>ford</td>\n",
       "    </tr>\n",
       "    <tr>\n",
       "      <th>35</th>\n",
       "      <td>model</td>\n",
       "      <td>ford</td>\n",
       "    </tr>\n",
       "    <tr>\n",
       "      <th>...</th>\n",
       "      <td>...</td>\n",
       "      <td>...</td>\n",
       "    </tr>\n",
       "    <tr>\n",
       "      <th>1722327</th>\n",
       "      <td>sahara</td>\n",
       "      <td>jeep</td>\n",
       "    </tr>\n",
       "    <tr>\n",
       "      <th>1722474</th>\n",
       "      <td>nascar</td>\n",
       "      <td>dodge</td>\n",
       "    </tr>\n",
       "    <tr>\n",
       "      <th>1722535</th>\n",
       "      <td>corolla ce</td>\n",
       "      <td>toyota</td>\n",
       "    </tr>\n",
       "    <tr>\n",
       "      <th>1722963</th>\n",
       "      <td>1998</td>\n",
       "      <td>chevrolet</td>\n",
       "    </tr>\n",
       "    <tr>\n",
       "      <th>1723047</th>\n",
       "      <td>f350 diesel</td>\n",
       "      <td>ford</td>\n",
       "    </tr>\n",
       "  </tbody>\n",
       "</table>\n",
       "<p>14270 rows × 2 columns</p>\n",
       "</div>"
      ],
      "text/plain": [
       "                make manufacturer\n",
       "1          fleetwood     cadillac\n",
       "32             model         ford\n",
       "33             model         ford\n",
       "34             model         ford\n",
       "35             model         ford\n",
       "...              ...          ...\n",
       "1722327       sahara         jeep\n",
       "1722474       nascar        dodge\n",
       "1722535   corolla ce       toyota\n",
       "1722963         1998    chevrolet\n",
       "1723047  f350 diesel         ford\n",
       "\n",
       "[14270 rows x 2 columns]"
      ]
     },
     "execution_count": 312,
     "metadata": {},
     "output_type": "execute_result"
    }
   ],
   "source": [
    "predicted.dropna()"
   ]
  },
  {
   "cell_type": "code",
   "execution_count": 313,
   "metadata": {},
   "outputs": [],
   "source": [
    "dropped[['manufacturer', 'make']][mask]['manufacturer'].fillna(predicted['manufacturer'], inplace=True)"
   ]
  },
  {
   "cell_type": "markdown",
   "metadata": {},
   "source": [
    "### Let's also fillna of odometer by mean"
   ]
  },
  {
   "cell_type": "code",
   "execution_count": 318,
   "metadata": {},
   "outputs": [],
   "source": [
    "dropped['odometer'] = dropped['odometer'].fillna(dropped['odometer'].mean())"
   ]
  },
  {
   "cell_type": "markdown",
   "metadata": {},
   "source": [
    "### And predict cylinders to most common number for given manufacturer. Set 'other' to rounded mean."
   ]
  },
  {
   "cell_type": "code",
   "execution_count": 314,
   "metadata": {},
   "outputs": [],
   "source": [
    "cylinders = dropped['cylinders'].dropna().astype('str')\n",
    "def parse_cylinders(string):\n",
    "    return int(string.split(\" \")[0])\n",
    "cylinders_dict = dropped[['manufacturer', 'cylinders']].groupby('manufacturer').agg(lambda x:x.value_counts().index[0]).to_dict()['cylinders']\n",
    "mean_cylinders = int(cylinders[~cylinders.str.contains('other')].apply(parse_cylinders).mean())\n",
    "dropped['cylinders'] = dropped['cylinders'].astype('str').apply(lambda x: mean_cylinders if(x=='other' or x=='nan') else parse_cylinders(x))\n",
    "nona = dropped.dropna().drop_duplicates().drop(columns = ['lat', 'long']) #Decided to drop lat and log due to better final score"
   ]
  },
  {
   "cell_type": "markdown",
   "metadata": {},
   "source": [
    "### Let's encode end scale our data from -1 to 1"
   ]
  },
  {
   "cell_type": "code",
   "execution_count": 315,
   "metadata": {},
   "outputs": [],
   "source": [
    "from sklearn.preprocessing import OrdinalEncoder, MinMaxScaler\n",
    "X = nona.drop(columns='price')\n",
    "encoder = OrdinalEncoder().fit(X[['manufacturer', 'make']])\n",
    "y = nona['price'].to_numpy()\n",
    "X[['manufacturer', 'make']] = encoder.transform(X[['manufacturer', 'make']])\n",
    "scaler = MinMaxScaler((-1, 1)).fit(X)\n",
    "X_scaled = scaler.transform(X)"
   ]
  },
  {
   "cell_type": "markdown",
   "metadata": {},
   "source": [
    "### Now I'm using SGDRegressor beacause of large dataset"
   ]
  },
  {
   "cell_type": "code",
   "execution_count": 325,
   "metadata": {},
   "outputs": [
    {
     "data": {
      "text/plain": [
       "0.2972341606767336"
      ]
     },
     "execution_count": 325,
     "metadata": {},
     "output_type": "execute_result"
    }
   ],
   "source": [
    "from sklearn import linear_model\n",
    "clf = linear_model.SGDRegressor(max_iter=1000, tol=1e-3)\n",
    "clf.fit(X_scaled, y)\n",
    "clf.score(X_scaled, y)"
   ]
  },
  {
   "cell_type": "code",
   "execution_count": 327,
   "metadata": {},
   "outputs": [
    {
     "data": {
      "text/plain": [
       "array([15519.31332841])"
      ]
     },
     "execution_count": 327,
     "metadata": {},
     "output_type": "execute_result"
    }
   ],
   "source": [
    "def predict(manufacturer, make, odometer, year, cylinders):\n",
    "    X = np.array([manufacturer, make, odometer, year, cylinders]).reshape(1, 5)\n",
    "    df = pd.DataFrame\n",
    "    X[:, :2] = encoder.transform(X[:, :2])\n",
    "    X_scaled = scaler.transform(X)\n",
    "    return clf.predict(X_scaled)\n",
    "predict(*nona.drop(columns='price').to_numpy()[0])"
   ]
  },
  {
   "cell_type": "markdown",
   "metadata": {},
   "source": [
    "### Now, by doing the same operations I've done on the DataFrame, we would get prediction for any provided data."
   ]
  }
 ],
 "metadata": {
  "kernelspec": {
   "display_name": "Python 3",
   "language": "python",
   "name": "python3"
  },
  "language_info": {
   "codemirror_mode": {
    "name": "ipython",
    "version": 3
   },
   "file_extension": ".py",
   "mimetype": "text/x-python",
   "name": "python",
   "nbconvert_exporter": "python",
   "pygments_lexer": "ipython3",
   "version": "3.7.6"
  }
 },
 "nbformat": 4,
 "nbformat_minor": 4
}
