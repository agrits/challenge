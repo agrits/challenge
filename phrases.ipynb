{
 "cells": [
  {
   "cell_type": "code",
   "execution_count": 5,
   "metadata": {},
   "outputs": [
    {
     "name": "stdout",
     "output_type": "stream",
     "text": [
      "skychallenge_skyphrase_input.txt contains 410 valid passwords.\n"
     ]
    }
   ],
   "source": [
    "def is_password_valid(password):\n",
    "    \"\"\"\n",
    "    Returns true if password is valid, so when every word in it is unique\n",
    "    \n",
    "    Arguments:\n",
    "    password {string} - password to be checked\n",
    "    \"\"\"\n",
    "    splitted = password.split(\" \")\n",
    "    return len(splitted) == len(set(splitted))\n",
    "\n",
    "directory = \"data\"\n",
    "filename = \"skychallenge_skyphrase_input.txt\"\n",
    "lines = open(f\"{directory}/{filename}\")\n",
    "filtered = filter(is_password_valid, lines)\n",
    "valid_count = len(list(filtered))\n",
    "print(f\"{filename} contains {valid_count} valid passwords.\")"
   ]
  },
  {
   "cell_type": "code",
   "execution_count": null,
   "metadata": {},
   "outputs": [],
   "source": []
  }
 ],
 "metadata": {
  "kernelspec": {
   "display_name": "Python 3",
   "language": "python",
   "name": "python3"
  },
  "language_info": {
   "codemirror_mode": {
    "name": "ipython",
    "version": 3
   },
   "file_extension": ".py",
   "mimetype": "text/x-python",
   "name": "python",
   "nbconvert_exporter": "python",
   "pygments_lexer": "ipython3",
   "version": "3.7.6"
  }
 },
 "nbformat": 4,
 "nbformat_minor": 4
}
